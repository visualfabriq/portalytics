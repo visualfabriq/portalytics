{
 "cells": [
  {
   "cell_type": "code",
   "execution_count": 1,
   "metadata": {},
   "outputs": [
    {
     "name": "stderr",
     "output_type": "stream",
     "text": [
      "/home/ctselas/anaconda3/lib/python3.7/site-packages/sklearn/externals/joblib/__init__.py:15: FutureWarning: sklearn.externals.joblib is deprecated in 0.21 and will be removed in 0.23. Please import this functionality directly from joblib, which can be installed with: pip install joblib. If this warning is raised when loading pickled models, you may need to re-serialize those models with scikit-learn 0.21+.\n",
      "  warnings.warn(msg, category=FutureWarning)\n"
     ]
    }
   ],
   "source": [
    "%matplotlib inline\n",
    "from matplotlib import pyplot as plt\n",
    "plt.style.use('ggplot')\n",
    "import numpy as np\n",
    "import pandas as pd\n",
    "from copy import deepcopy\n",
    "from numpy.random import randint\n",
    "import random\n",
    "import itertools \n",
    "from operator import itemgetter\n",
    "\n",
    "from sklearn.datasets import make_regression\n",
    "from sklearn.linear_model import LinearRegression\n",
    "from sklearn.tree import DecisionTreeRegressor\n",
    "from sklearn.metrics import mean_squared_error\n",
    "from sklearn.model_selection import train_test_split\n",
    "from sklearn.pipeline import Pipeline\n",
    "from sklearn.preprocessing import PolynomialFeatures\n",
    "\n",
    "# from vf_portalytics.feature_subset import FeatureSubsetModel, FeatureSubsetTransform\n",
    "from vf_portalytics.model import PredictionModel"
   ]
  },
  {
   "cell_type": "code",
   "execution_count": 50,
   "metadata": {},
   "outputs": [],
   "source": [
    "import pandas as pd\n",
    "from copy import deepcopy\n",
    "from sklearn.base import BaseEstimator, RegressorMixin, TransformerMixin\n",
    "from sklearn.dummy import DummyClassifier\n",
    "\n",
    "class FeatureSubsetTransform(BaseEstimator, TransformerMixin):\n",
    "\n",
    "    def __init__(self, group_cols=None, input_columns=None, multiplication_columns=None,\n",
    "                 division_columns=None, transformer=None):\n",
    "        \"\"\"Build a feature tranformer\"\"\"\n",
    "        self.transformer = transformer\n",
    "        self.input_columns = input_columns\n",
    "        self.multiplication_columns = multiplication_columns\n",
    "        self.division_columns = division_columns\n",
    "        self.group_cols = group_cols\n",
    "\n",
    "    def fit(self, X, y=None):\n",
    "        \"\"\"Drop the columns that are being used to group the data and fit the transformer\"\"\"\n",
    "        x_in = X.drop([n for n in self.group_cols], axis=1)\n",
    "        self.transformer = self.transformer.fit(X=x_in[self.input_columns])\n",
    "        return self\n",
    "\n",
    "    def transform(self, X):\n",
    "        x_in = X.drop([n for n in self.group_cols], axis=1)\n",
    "        # transform the promoted_price collumn\n",
    "        transformed_price = self.transformer.transform(X=x_in[self.input_columns])\n",
    "        # convert data into initial format\n",
    "        transformed_price = pd.DataFrame(data=transformed_price, index=x_in.index,\n",
    "                                         columns=self.transformer.get_feature_names(self.input_columns))\n",
    "        transformed_price.drop(input_columns + ['1'], axis=1, inplace=True)\n",
    "        transformed_x = pd.concat([x_in, transformed_price], axis=1)\n",
    "        transformed_x[list(self.group_cols)] = X[list(self.group_cols)]\n",
    "        return transformed_x\n",
    "\n",
    "\n",
    "class FeatureSubsetModel(BaseEstimator, RegressorMixin):\n",
    "\n",
    "    def __init__(self, lookup_dict=None, group_cols=None, input_columns=None, multiplication_columns=None,\n",
    "                 division_columns=None, sub_models=None):\n",
    "        \"\"\"\n",
    "        Build regression model for subsets of feature rows matching particular combination of feature columns.\n",
    "        \"\"\"\n",
    "        self.lookup_dict = lookup_dict\n",
    "        self.group_cols = group_cols\n",
    "        self.input_columns = input_columns\n",
    "        self.multiplication_columns = multiplication_columns\n",
    "        self.division_columns = division_columns\n",
    "        self.sub_models = sub_models\n",
    "\n",
    "    def fit(self, X, y=None):\n",
    "        \"\"\"\n",
    "        Partition the training data, X, into groups for each unique combination of values in\n",
    "        'self.group_cols' columns. For each group, train the appropriate model specified in 'self.sub_models'.\n",
    "\n",
    "        If there is no sub_model for a group, predict 0\n",
    "        The models are being trained using only the features that their names starts with 'promoted_price'\n",
    "        \"\"\"\n",
    "\n",
    "        groups = X.groupby(by=list(self.group_cols))\n",
    "        for gp_key, x_group in groups:\n",
    "            # Find the sub-model for this group key\n",
    "            gp_model = self.sub_models.get(gp_key, DummyClassifier(constant=0))\n",
    "\n",
    "            # Drop the feature values for the group columns, since these are same for all rows\n",
    "            # and so don't contribute anything into the prediction.\n",
    "            x_in = x_group.drop([n for n in self.group_cols], axis=1)\n",
    "            y_in = y.loc[x_in.index]\n",
    "\n",
    "            # Fit the submodel with subset of rows and only collumns related to price\n",
    "            gp_model = gp_model.fit(X=x_in[self.input_columns], y=y_in.values)\n",
    "            self.sub_models[gp_key] = gp_model\n",
    "        return self\n",
    "\n",
    "    def predict(self, X, y=None):\n",
    "        \"\"\"\n",
    "        Same as 'self.fit()', but call the 'predict()' method for each submodel and return the results.\n",
    "        :return: predicted_market_share*predicted_market_volume*consumer_length/product_volume_per_sku\n",
    "            where predicted_market_share are the outputs of the trained models\n",
    "        \"\"\"\n",
    "        # create a new collumn by checking the lookup_dict\n",
    "        X['predicted_market_volume'] = [self.lookup_dict.get((week, pr), 0)\n",
    "                                        for week, pr in zip(X['yearweek'], X['original_product_dimension_44'])]\n",
    "        groups = X.groupby(by=list(self.group_cols))\n",
    "        results = []\n",
    "\n",
    "        for gp_key, x_group in groups:\n",
    "            x_in = x_group.drop([n for n in self.group_cols], axis=1)\n",
    "            gp_model = self.sub_models.get(gp_key, DummyClassifier(constant=0).fit(x_in, [0]*len(x_in)))\n",
    "\n",
    "            # predict market share only using price related data\n",
    "            predicted_market_share = gp_model.predict(X=x_in[self.input_columns])\n",
    "            predicted_market_share = pd.Series(index=x_in.index, data=predicted_market_share)\n",
    "\n",
    "            result = predicted_market_share\n",
    "            # multiplication\n",
    "            for mul_col in self.multiplication_columns:\n",
    "                result *=  x_in[mul_col]\n",
    "                \n",
    "            # division\n",
    "            for div_col in self.division_columns:\n",
    "                result /= x_in[div_col]\n",
    "\n",
    "            results.append(result)\n",
    "        return pd.concat(results, axis=0)"
   ]
  },
  {
   "cell_type": "code",
   "execution_count": 7,
   "metadata": {},
   "outputs": [],
   "source": [
    "def make_dataset(random_state, n_informative, collumn_names, **kwargs):\n",
    "    x, y = make_regression(\n",
    "\n",
    "        n_samples=1000,\n",
    "        n_features=5,\n",
    "        noise=0 if random_state == 1 else 10,\n",
    "        bias=10 if random_state == 1 else 1000,\n",
    "        n_informative=min(n_informative, 5),\n",
    "        random_state=random_state\n",
    "    )\n",
    "    x = pd.DataFrame(x)\n",
    "    x.columns = [name for name in collumn_names]\n",
    "    x = x.assign(**kwargs)\n",
    "    x['yearweek'] = randint(1, 54, len(x))\n",
    "    # pack_type (original_product_dimension_44) 0: 'Can', 1: 'Bottle'\n",
    "    x['original_product_dimension_44'] = [random.choice([0, 1]) for i in range(len(x))]\n",
    "    return x, pd.Series(y)\n"
   ]
  },
  {
   "cell_type": "code",
   "execution_count": 8,
   "metadata": {},
   "outputs": [],
   "source": [
    "def make_dict():\n",
    "    \"\"\"Creates a dictionary with keys all the combinations between the weeks of the year and the pack types\n",
    "    In this case we have only one pack type, in order to check if when we dont have the pack type in the dict,\n",
    "    the model will predict 0.\n",
    "    \"\"\"\n",
    "    all_list = [list(range(1, 54)), [0]]\n",
    "    keys = list(itertools.product(*all_list))\n",
    "    values = [random.choice(np.linspace(-2.5, 2.5, num=500)) for i in range(len(keys))]\n",
    "    return dict(zip(keys, values))"
   ]
  },
  {
   "cell_type": "markdown",
   "metadata": {
    "pycharm": {
     "name": "#%% md\n"
    }
   },
   "source": [
    "## Generate data and lookup dictionary"
   ]
  },
  {
   "cell_type": "code",
   "execution_count": 9,
   "metadata": {
    "pycharm": {
     "name": "#%%\n"
    }
   },
   "outputs": [],
   "source": [
    "collumn_names = ['promoted_price', 'consumer_length', \n",
    "                 'yearweek',  'original_product_dimension_44', 'product_volume_per_sku']\n",
    "\n",
    "x1, y1 = make_dataset(1, 5, collumn_names, account_banner='A', product_desc='X')\n",
    "x2, y2 = make_dataset(2, 3, collumn_names, account_banner='B', product_desc='Y')\n",
    "# create on more that will not have sub_model and will predict 0\n",
    "x3, y3 = make_dataset(3, 1, collumn_names, account_banner='C', product_desc='Z')\n",
    "\n",
    "# combine into one dataset\n",
    "total_x = pd.concat([x1, x2, x3], axis=0, ignore_index=True).reset_index(drop=True)\n",
    "total_y = pd.concat([y1, y2, y3], axis=0, ignore_index=True).reset_index(drop=True)\n",
    "# Split into train and test\n",
    "train_index, test_index = train_test_split(total_x.index, random_state=5)\n",
    "train_x, train_y = total_x.loc[train_index, :], total_y.loc[train_index]\n",
    "test_x, test_y = total_x.loc[test_index, :], total_y.loc[test_index]\n",
    "\n",
    "# create dictionary \"predicted_market_volumes\" - \"lookup_dict\"\n",
    "lookup_dict = make_dict()"
   ]
  },
  {
   "cell_type": "code",
   "execution_count": 10,
   "metadata": {},
   "outputs": [
    {
     "data": {
      "text/html": [
       "<div>\n",
       "<style scoped>\n",
       "    .dataframe tbody tr th:only-of-type {\n",
       "        vertical-align: middle;\n",
       "    }\n",
       "\n",
       "    .dataframe tbody tr th {\n",
       "        vertical-align: top;\n",
       "    }\n",
       "\n",
       "    .dataframe thead th {\n",
       "        text-align: right;\n",
       "    }\n",
       "</style>\n",
       "<table border=\"1\" class=\"dataframe\">\n",
       "  <thead>\n",
       "    <tr style=\"text-align: right;\">\n",
       "      <th></th>\n",
       "      <th>promoted_price</th>\n",
       "      <th>consumer_length</th>\n",
       "      <th>yearweek</th>\n",
       "      <th>original_product_dimension_44</th>\n",
       "      <th>product_volume_per_sku</th>\n",
       "      <th>account_banner</th>\n",
       "      <th>product_desc</th>\n",
       "    </tr>\n",
       "  </thead>\n",
       "  <tbody>\n",
       "    <tr>\n",
       "      <th>2528</th>\n",
       "      <td>1.240198</td>\n",
       "      <td>-0.588810</td>\n",
       "      <td>2</td>\n",
       "      <td>1</td>\n",
       "      <td>-0.258654</td>\n",
       "      <td>C</td>\n",
       "      <td>Z</td>\n",
       "    </tr>\n",
       "    <tr>\n",
       "      <th>2828</th>\n",
       "      <td>-1.721130</td>\n",
       "      <td>-0.633242</td>\n",
       "      <td>52</td>\n",
       "      <td>0</td>\n",
       "      <td>-0.251092</td>\n",
       "      <td>C</td>\n",
       "      <td>Z</td>\n",
       "    </tr>\n",
       "    <tr>\n",
       "      <th>2137</th>\n",
       "      <td>-2.306269</td>\n",
       "      <td>1.947770</td>\n",
       "      <td>30</td>\n",
       "      <td>0</td>\n",
       "      <td>0.895523</td>\n",
       "      <td>C</td>\n",
       "      <td>Z</td>\n",
       "    </tr>\n",
       "    <tr>\n",
       "      <th>2637</th>\n",
       "      <td>-0.303963</td>\n",
       "      <td>-0.400043</td>\n",
       "      <td>32</td>\n",
       "      <td>1</td>\n",
       "      <td>-0.559406</td>\n",
       "      <td>C</td>\n",
       "      <td>Z</td>\n",
       "    </tr>\n",
       "    <tr>\n",
       "      <th>135</th>\n",
       "      <td>1.529248</td>\n",
       "      <td>0.686483</td>\n",
       "      <td>16</td>\n",
       "      <td>1</td>\n",
       "      <td>-0.081570</td>\n",
       "      <td>A</td>\n",
       "      <td>X</td>\n",
       "    </tr>\n",
       "    <tr>\n",
       "      <th>...</th>\n",
       "      <td>...</td>\n",
       "      <td>...</td>\n",
       "      <td>...</td>\n",
       "      <td>...</td>\n",
       "      <td>...</td>\n",
       "      <td>...</td>\n",
       "      <td>...</td>\n",
       "    </tr>\n",
       "    <tr>\n",
       "      <th>2121</th>\n",
       "      <td>-0.504628</td>\n",
       "      <td>0.043220</td>\n",
       "      <td>15</td>\n",
       "      <td>1</td>\n",
       "      <td>-1.403318</td>\n",
       "      <td>C</td>\n",
       "      <td>Z</td>\n",
       "    </tr>\n",
       "    <tr>\n",
       "      <th>1424</th>\n",
       "      <td>-0.722067</td>\n",
       "      <td>0.466792</td>\n",
       "      <td>37</td>\n",
       "      <td>0</td>\n",
       "      <td>-3.326870</td>\n",
       "      <td>B</td>\n",
       "      <td>Y</td>\n",
       "    </tr>\n",
       "    <tr>\n",
       "      <th>1725</th>\n",
       "      <td>-0.389445</td>\n",
       "      <td>-0.658218</td>\n",
       "      <td>4</td>\n",
       "      <td>1</td>\n",
       "      <td>1.398478</td>\n",
       "      <td>B</td>\n",
       "      <td>Y</td>\n",
       "    </tr>\n",
       "    <tr>\n",
       "      <th>2254</th>\n",
       "      <td>0.350929</td>\n",
       "      <td>-0.856347</td>\n",
       "      <td>27</td>\n",
       "      <td>0</td>\n",
       "      <td>-0.523437</td>\n",
       "      <td>C</td>\n",
       "      <td>Z</td>\n",
       "    </tr>\n",
       "    <tr>\n",
       "      <th>2915</th>\n",
       "      <td>-1.847872</td>\n",
       "      <td>0.576796</td>\n",
       "      <td>48</td>\n",
       "      <td>0</td>\n",
       "      <td>-2.980150</td>\n",
       "      <td>C</td>\n",
       "      <td>Z</td>\n",
       "    </tr>\n",
       "  </tbody>\n",
       "</table>\n",
       "<p>2250 rows × 7 columns</p>\n",
       "</div>"
      ],
      "text/plain": [
       "      promoted_price  consumer_length  yearweek  \\\n",
       "2528        1.240198        -0.588810         2   \n",
       "2828       -1.721130        -0.633242        52   \n",
       "2137       -2.306269         1.947770        30   \n",
       "2637       -0.303963        -0.400043        32   \n",
       "135         1.529248         0.686483        16   \n",
       "...              ...              ...       ...   \n",
       "2121       -0.504628         0.043220        15   \n",
       "1424       -0.722067         0.466792        37   \n",
       "1725       -0.389445        -0.658218         4   \n",
       "2254        0.350929        -0.856347        27   \n",
       "2915       -1.847872         0.576796        48   \n",
       "\n",
       "      original_product_dimension_44  product_volume_per_sku account_banner  \\\n",
       "2528                              1               -0.258654              C   \n",
       "2828                              0               -0.251092              C   \n",
       "2137                              0                0.895523              C   \n",
       "2637                              1               -0.559406              C   \n",
       "135                               1               -0.081570              A   \n",
       "...                             ...                     ...            ...   \n",
       "2121                              1               -1.403318              C   \n",
       "1424                              0               -3.326870              B   \n",
       "1725                              1                1.398478              B   \n",
       "2254                              0               -0.523437              C   \n",
       "2915                              0               -2.980150              C   \n",
       "\n",
       "     product_desc  \n",
       "2528            Z  \n",
       "2828            Z  \n",
       "2137            Z  \n",
       "2637            Z  \n",
       "135             X  \n",
       "...           ...  \n",
       "2121            Z  \n",
       "1424            Y  \n",
       "1725            Y  \n",
       "2254            Z  \n",
       "2915            Z  \n",
       "\n",
       "[2250 rows x 7 columns]"
      ]
     },
     "execution_count": 10,
     "metadata": {},
     "output_type": "execute_result"
    }
   ],
   "source": [
    "train_x"
   ]
  },
  {
   "cell_type": "code",
   "execution_count": 11,
   "metadata": {
    "pycharm": {
     "name": "#%%\n"
    },
    "scrolled": true
   },
   "outputs": [
    {
     "data": {
      "text/plain": [
       "{(1, 0): 1.8987975951903806,\n",
       " (2, 0): -1.0270541082164328,\n",
       " (3, 0): 1.467935871743487,\n",
       " (4, 0): 0.8867735470941884,\n",
       " (5, 0): -1.057114228456914,\n",
       " (6, 0): -0.4659318637274552,\n",
       " (7, 0): -1.1973947895791583,\n",
       " (8, 0): 0.19539078156312595,\n",
       " (9, 0): 2.2094188376753507,\n",
       " (10, 0): -1.6783567134268538,\n",
       " (11, 0): 0.7765531062124249,\n",
       " (12, 0): -2.129258517034068,\n",
       " (13, 0): 2.219438877755511,\n",
       " (14, 0): 0.6062124248496992,\n",
       " (15, 0): 1.3076152304609217,\n",
       " (16, 0): -1.0771543086172346,\n",
       " (17, 0): -0.11523046092184375,\n",
       " (18, 0): -0.9769539078156313,\n",
       " (19, 0): -0.6162324649298598,\n",
       " (20, 0): -0.34569138276553124,\n",
       " (21, 0): -2.099198396793587,\n",
       " (22, 0): 0.06513026052104198,\n",
       " (23, 0): -0.32565130260521036,\n",
       " (24, 0): -2.3597194388777556,\n",
       " (25, 0): -1.24749498997996,\n",
       " (26, 0): -0.055110220440881985,\n",
       " (27, 0): -2.4498997995991982,\n",
       " (28, 0): -1.6182364729458918,\n",
       " (29, 0): -0.7565130260521042,\n",
       " (30, 0): -1.0971943887775553,\n",
       " (31, 0): 1.1172344689378755,\n",
       " (32, 0): 0.11523046092184375,\n",
       " (33, 0): 0.06513026052104198,\n",
       " (34, 0): 0.8567134268537071,\n",
       " (35, 0): 0.9068136272545089,\n",
       " (36, 0): -1.968937875751503,\n",
       " (37, 0): 0.4358717434869739,\n",
       " (38, 0): -1.4478957915831663,\n",
       " (39, 0): 0.7264529058116231,\n",
       " (40, 0): -0.6462925851703407,\n",
       " (41, 0): -1.3476953907815632,\n",
       " (42, 0): 0.7064128256513023,\n",
       " (43, 0): -1.1673346693386775,\n",
       " (44, 0): -1.9989979959919841,\n",
       " (45, 0): 2.059118236472946,\n",
       " (46, 0): -1.1873747494989981,\n",
       " (47, 0): 0.46593186372745476,\n",
       " (48, 0): -0.11523046092184375,\n",
       " (49, 0): -0.9168336673346693,\n",
       " (50, 0): 1.8887775551102202,\n",
       " (51, 0): 2.3396793587174347,\n",
       " (52, 0): -0.6563126252505012,\n",
       " (53, 0): 1.2875751503006012}"
      ]
     },
     "execution_count": 11,
     "metadata": {},
     "output_type": "execute_result"
    }
   ],
   "source": [
    "lookup_dict"
   ]
  },
  {
   "cell_type": "markdown",
   "metadata": {
    "pycharm": {
     "name": "#%% md\n"
    }
   },
   "source": [
    "# Create pipeline"
   ]
  },
  {
   "cell_type": "code",
   "execution_count": 52,
   "metadata": {
    "pycharm": {
     "name": "#%%\n"
    }
   },
   "outputs": [],
   "source": [
    "from sklearn.pipeline import make_pipeline\n",
    "from sklearn.preprocessing import PolynomialFeatures\n",
    "\n",
    "\n",
    "subset_cols = ('account_banner', 'product_desc')\n",
    "input_columns = ['promoted_price']\n",
    "multiplication_columns = ['predicted_market_volume', 'consumer_length']\n",
    "division_columns = ['product_volume_per_sku']\n",
    "\n",
    "sub_models = {\n",
    "    ('A', 'X'): LinearRegression(),\n",
    "    ('B', 'Y'): DecisionTreeRegressor(),\n",
    "}\n",
    "\n",
    "\n",
    "pipeline = Pipeline([  \n",
    "  ('transform', FeatureSubsetTransform(group_cols=subset_cols, transformer=PolynomialFeatures(2),\n",
    "                                       input_columns=input_columns, multiplication_columns=multiplication_columns,\n",
    "                                       division_columns=division_columns)),\n",
    "  ('estimate', FeatureSubsetModel(lookup_dict=lookup_dict, group_cols=subset_cols, \n",
    "                                  input_columns=input_columns, multiplication_columns=multiplication_columns, \n",
    "                                  division_columns=division_columns, sub_models=sub_models))\n",
    "])"
   ]
  },
  {
   "cell_type": "code",
   "execution_count": null,
   "outputs": [],
   "source": [
    "model_wrapper = PredictionModel(\"my_test_model\", path='/tmp', one_hot_encode=False)\n"
   ],
   "metadata": {
    "collapsed": false,
    "pycharm": {
     "name": "#%%\n"
    }
   }
  },
  {
   "cell_type": "code",
   "execution_count": 65,
   "metadata": {},
   "outputs": [],
   "source": [
    "# Create VF Model Wrapper and Save pipeline"
   ]
  },
  {
   "cell_type": "markdown",
   "metadata": {
    "pycharm": {
     "name": "#%% md\n"
    }
   },
   "source": [
    "# Create VF Model Wrapper and Save pipeline"
   ]
  },
  {
   "cell_type": "code",
   "execution_count": 53,
   "metadata": {
    "pycharm": {
     "name": "#%%\n"
    }
   },
   "outputs": [
    {
     "name": "stderr",
     "output_type": "stream",
     "text": [
      "/home/ctselas/anaconda3/lib/python3.7/site-packages/sklearn/dummy.py:132: FutureWarning: The default value of strategy will change from stratified to prior in 0.24.\n",
      "  \"stratified to prior in 0.24.\", FutureWarning)\n"
     ]
    }
   ],
   "source": [
    "# Note: must use one_hot_encode=False to prevent one-hot encoding of categorical features in input data\n",
    "model_wrapper = PredictionModel(\"my_test_model\", path='/tmp', one_hot_encode=False)\n",
    "\n",
    "model_wrapper.model = pipeline\n",
    "# save feature names (no strictly since all the preprocessing is made being made in the pipeline)\n",
    "model_wrapper.features = {\n",
    "    # Grouping features\n",
    "    'account_banner': [],\n",
    "    'product_desc': [],\n",
    "    # other feaures\n",
    "    'promoted_price': [],\n",
    "    'consumer_length': [],\n",
    "    'yearweek': [],\n",
    "    'original_product_dimension_44': [],\n",
    "    'product_volume_per_sku': [],\n",
    "}\n",
    "model_wrapper.target = {'target': []}\n",
    "model_wrapper.ordered_column_list = sorted(model_wrapper.features.keys())\n",
    "\n",
    "model_wrapper.model.fit(train_x, train_y)\n",
    "\n",
    "model_wrapper.save()"
   ]
  },
  {
   "cell_type": "markdown",
   "metadata": {
    "pycharm": {
     "name": "#%% md\n"
    }
   },
   "source": [
    "# Load Pre-Saved Model "
   ]
  },
  {
   "cell_type": "code",
   "execution_count": 54,
   "metadata": {
    "pycharm": {
     "name": "#%%\n"
    }
   },
   "outputs": [
    {
     "data": {
      "text/plain": [
       "Pipeline(memory=None,\n",
       "         steps=[('transform',\n",
       "                 FeatureSubsetTransform(division_columns=['product_volume_per_sku'],\n",
       "                                        group_cols=('account_banner',\n",
       "                                                    'product_desc'),\n",
       "                                        input_columns=['promoted_price'],\n",
       "                                        multiplication_columns=['predicted_market_volume',\n",
       "                                                                'consumer_length'],\n",
       "                                        transformer=PolynomialFeatures(degree=2,\n",
       "                                                                       include_bias=True,\n",
       "                                                                       interaction_only=False,\n",
       "                                                                       order='C'))),\n",
       "                (...\n",
       "                                                ('B', 'Y'): DecisionTreeRegressor(ccp_alpha=0.0,\n",
       "                                                                                  criterion='mse',\n",
       "                                                                                  max_depth=None,\n",
       "                                                                                  max_features=None,\n",
       "                                                                                  max_leaf_nodes=None,\n",
       "                                                                                  min_impurity_decrease=0.0,\n",
       "                                                                                  min_impurity_split=None,\n",
       "                                                                                  min_samples_leaf=1,\n",
       "                                                                                  min_samples_split=2,\n",
       "                                                                                  min_weight_fraction_leaf=0.0,\n",
       "                                                                                  presort='deprecated',\n",
       "                                                                                  random_state=None,\n",
       "                                                                                  splitter='best'),\n",
       "                                                ('C', 'Z'): DummyClassifier(constant=0,\n",
       "                                                                            random_state=None,\n",
       "                                                                            strategy='warn')}))],\n",
       "         verbose=False)"
      ]
     },
     "execution_count": 54,
     "metadata": {},
     "output_type": "execute_result"
    }
   ],
   "source": [
    "# Don't specify one_hot_encode here because it will be looked up from the pickle file\n",
    "saved_model = PredictionModel('my_test_model', path='/tmp')\n",
    "saved_model.model"
   ]
  },
  {
   "cell_type": "markdown",
   "metadata": {
    "pycharm": {
     "name": "#%% md\n"
    }
   },
   "source": [
    "# Test the results"
   ]
  },
  {
   "cell_type": "code",
   "execution_count": 55,
   "metadata": {
    "pycharm": {
     "name": "#%%\n"
    }
   },
   "outputs": [],
   "source": [
    "# test for the first group if the pipeline performs what we would like to\n",
    "groups = train_x.groupby(by=list(subset_cols))\n",
    "_, train_x = list(groups)[0]\n",
    "\n",
    "groups = test_x.groupby(by=list(subset_cols))\n",
    "_, test_x = list(groups)[0]\n",
    "\n",
    "train_y = train_y.loc[train_x.index]\n",
    "test_y = test_y.loc[test_x.index]"
   ]
  },
  {
   "cell_type": "code",
   "execution_count": 56,
   "metadata": {},
   "outputs": [
    {
     "name": "stderr",
     "output_type": "stream",
     "text": [
      "/home/ctselas/anaconda3/lib/python3.7/site-packages/sklearn/dummy.py:132: FutureWarning: The default value of strategy will change from stratified to prior in 0.24.\n",
      "  \"stratified to prior in 0.24.\", FutureWarning)\n"
     ]
    }
   ],
   "source": [
    "# predict with pipeline\n",
    "pipeline_predicted = saved_model.model.predict(test_x)"
   ]
  },
  {
   "cell_type": "code",
   "execution_count": 57,
   "metadata": {
    "pycharm": {
     "name": "#%%\n"
    }
   },
   "outputs": [],
   "source": [
    "# drop the columns that declare the group since we use only one group for the test\n",
    "test_x.drop(list(subset_cols), axis=1, inplace=True)\n",
    "train_x.drop(list(subset_cols), axis=1, inplace=True)"
   ]
  },
  {
   "cell_type": "code",
   "execution_count": 58,
   "metadata": {},
   "outputs": [],
   "source": [
    "# transform price collumn\n",
    "transformer = PolynomialFeatures(2)\n",
    "transformer.fit(train_x[['promoted_price']])\n",
    "\n",
    "def transform_data(data):\n",
    "    transformed_price = transformer.transform(data[['promoted_price']])\n",
    "    transformed_price = pd.DataFrame(data=transformed_price, index=data.index,\n",
    "                                         columns=transformer.get_feature_names(data.columns))\n",
    "    transformed_price.drop(['1', 'promoted_price'], axis=1, inplace=True)\n",
    "    transformed_x = pd.concat([data, transformed_price], axis=1)\n",
    "    return transformed_x\n",
    "train_transformed = transform_data(train_x)\n",
    "test_transformed = transform_data(test_x)\n",
    "\n",
    "price_collumns = [col for col in test_transformed if col.startswith('promoted_price')]"
   ]
  },
  {
   "cell_type": "code",
   "execution_count": 59,
   "metadata": {},
   "outputs": [],
   "source": [
    "# predict market share only using price related data\n",
    "model = LinearRegression().fit(train_transformed[price_collumns], train_y)\n",
    "\n",
    "predicted_market_share = model.predict(test_transformed[price_collumns])\n",
    "predicted_market_share = pd.Series(index=test_transformed.index, data=predicted_market_share)"
   ]
  },
  {
   "cell_type": "code",
   "execution_count": 60,
   "metadata": {
    "pycharm": {
     "name": "#%%\n"
    }
   },
   "outputs": [],
   "source": [
    "# predict output\n",
    "test_x['predicted_market_volume'] = [lookup_dict.get((week, pr), 0) \n",
    "                                        for week, pr in [*zip(test_x['yearweek'], test_x['original_product_dimension_44'])]]\n",
    "\n",
    "directly_predicted = predicted_market_share.mul(\n",
    "        test_x['predicted_market_volume']).mul(\n",
    "        test_x['consumer_length']).div(\n",
    "        test_x['product_volume_per_sku']).clip(lower=0)"
   ]
  },
  {
   "cell_type": "code",
   "execution_count": 64,
   "metadata": {
    "pycharm": {
     "name": "#%%\n"
    }
   },
   "outputs": [
    {
     "data": {
      "text/html": [
       "<div>\n",
       "<style scoped>\n",
       "    .dataframe tbody tr th:only-of-type {\n",
       "        vertical-align: middle;\n",
       "    }\n",
       "\n",
       "    .dataframe tbody tr th {\n",
       "        vertical-align: top;\n",
       "    }\n",
       "\n",
       "    .dataframe thead th {\n",
       "        text-align: right;\n",
       "    }\n",
       "</style>\n",
       "<table border=\"1\" class=\"dataframe\">\n",
       "  <thead>\n",
       "    <tr style=\"text-align: right;\">\n",
       "      <th></th>\n",
       "      <th>directly_predicted</th>\n",
       "      <th>pipeline_predicted</th>\n",
       "    </tr>\n",
       "  </thead>\n",
       "  <tbody>\n",
       "    <tr>\n",
       "      <th>602</th>\n",
       "      <td>0.000000</td>\n",
       "      <td>0.000000</td>\n",
       "    </tr>\n",
       "    <tr>\n",
       "      <th>347</th>\n",
       "      <td>0.000000</td>\n",
       "      <td>0.000000</td>\n",
       "    </tr>\n",
       "    <tr>\n",
       "      <th>194</th>\n",
       "      <td>0.000000</td>\n",
       "      <td>-2.329909</td>\n",
       "    </tr>\n",
       "    <tr>\n",
       "      <th>791</th>\n",
       "      <td>-0.000000</td>\n",
       "      <td>-0.000000</td>\n",
       "    </tr>\n",
       "    <tr>\n",
       "      <th>795</th>\n",
       "      <td>-0.000000</td>\n",
       "      <td>-0.000000</td>\n",
       "    </tr>\n",
       "    <tr>\n",
       "      <th>...</th>\n",
       "      <td>...</td>\n",
       "      <td>...</td>\n",
       "    </tr>\n",
       "    <tr>\n",
       "      <th>444</th>\n",
       "      <td>0.000000</td>\n",
       "      <td>0.000000</td>\n",
       "    </tr>\n",
       "    <tr>\n",
       "      <th>280</th>\n",
       "      <td>0.000000</td>\n",
       "      <td>0.000000</td>\n",
       "    </tr>\n",
       "    <tr>\n",
       "      <th>342</th>\n",
       "      <td>0.000000</td>\n",
       "      <td>0.000000</td>\n",
       "    </tr>\n",
       "    <tr>\n",
       "      <th>601</th>\n",
       "      <td>8.604121</td>\n",
       "      <td>9.194760</td>\n",
       "    </tr>\n",
       "    <tr>\n",
       "      <th>680</th>\n",
       "      <td>0.000000</td>\n",
       "      <td>0.000000</td>\n",
       "    </tr>\n",
       "  </tbody>\n",
       "</table>\n",
       "<p>251 rows × 2 columns</p>\n",
       "</div>"
      ],
      "text/plain": [
       "     directly_predicted  pipeline_predicted\n",
       "602            0.000000            0.000000\n",
       "347            0.000000            0.000000\n",
       "194            0.000000           -2.329909\n",
       "791           -0.000000           -0.000000\n",
       "795           -0.000000           -0.000000\n",
       "..                  ...                 ...\n",
       "444            0.000000            0.000000\n",
       "280            0.000000            0.000000\n",
       "342            0.000000            0.000000\n",
       "601            8.604121            9.194760\n",
       "680            0.000000            0.000000\n",
       "\n",
       "[251 rows x 2 columns]"
      ]
     },
     "execution_count": 64,
     "metadata": {},
     "output_type": "execute_result"
    }
   ],
   "source": [
    "pd.DataFrame({'directly_predicted': directly_predicted, 'pipeline_predicted': pipeline_predicted})"
   ]
  }
 ],
 "metadata": {
  "kernelspec": {
   "display_name": "Python 3.7.4 64-bit ('base': conda)",
   "language": "python",
   "name": "python37464bitbaseconda6c450a8f19074deabebe8fa00fbae28c"
  },
  "language_info": {
   "codemirror_mode": {
    "name": "ipython",
    "version": 3
   },
   "file_extension": ".py",
   "mimetype": "text/x-python",
   "name": "python",
   "nbconvert_exporter": "python",
   "pygments_lexer": "ipython3",
   "version": "3.7.4"
  },
  "pycharm": {
   "stem_cell": {
    "cell_type": "raw",
    "source": [],
    "metadata": {
     "collapsed": false
    }
   }
  }
 },
 "nbformat": 4,
 "nbformat_minor": 2
}